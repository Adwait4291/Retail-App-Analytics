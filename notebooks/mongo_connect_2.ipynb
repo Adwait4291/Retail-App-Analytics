{
 "cells": [
  {
   "cell_type": "code",
   "execution_count": 1,
   "metadata": {},
   "outputs": [],
   "source": [
    "from pymongo import MongoClient\n",
    "import pandas as pd\n",
    "\n"
   ]
  },
  {
   "cell_type": "code",
   "execution_count": 2,
   "metadata": {},
   "outputs": [
    {
     "name": "stdout",
     "output_type": "stream",
     "text": [
      "Current environment: c:\\Users\\hp\\anaconda3\\envs\\workshop\n"
     ]
    }
   ],
   "source": [
    "import sys; print(f\"Current environment: {sys.prefix}\")"
   ]
  },
  {
   "cell_type": "code",
   "execution_count": null,
   "metadata": {},
   "outputs": [
    {
     "ename": "InvalidName",
     "evalue": "database names cannot contain the character ' '",
     "output_type": "error",
     "traceback": [
      "\u001b[31m---------------------------------------------------------------------------\u001b[39m",
      "\u001b[31mInvalidName\u001b[39m                               Traceback (most recent call last)",
      "\u001b[36mCell\u001b[39m\u001b[36m \u001b[39m\u001b[32mIn[7]\u001b[39m\u001b[32m, line 4\u001b[39m\n\u001b[32m      2\u001b[39m connection_string = \u001b[33m\"\u001b[39m\u001b[33mmongodb+srv://adwait:<adwait>@mlcluster.2hzpona.mongodb.net/\u001b[39m\u001b[33m\"\u001b[39m\n\u001b[32m      3\u001b[39m client = MongoClient(connection_string)\n\u001b[32m----> \u001b[39m\u001b[32m4\u001b[39m db = \u001b[43mclient\u001b[49m\u001b[43m.\u001b[49m\u001b[43mget_database\u001b[49m\u001b[43m(\u001b[49m\u001b[33;43m'\u001b[39;49m\u001b[33;43mML WORKSHOP\u001b[39;49m\u001b[33;43m'\u001b[39;49m\u001b[43m)\u001b[49m\n\u001b[32m      5\u001b[39m collection = db.products  \u001b[38;5;66;03m# This is the collection where your data is stored\u001b[39;00m\n",
      "\u001b[36mFile \u001b[39m\u001b[32mc:\\Users\\hp\\anaconda3\\envs\\workshop\\Lib\\site-packages\\pymongo\\mongo_client.py:2155\u001b[39m, in \u001b[36mMongoClient.get_database\u001b[39m\u001b[34m(self, name, codec_options, read_preference, write_concern, read_concern)\u001b[39m\n\u001b[32m   2152\u001b[39m         \u001b[38;5;28;01mraise\u001b[39;00m ConfigurationError(\u001b[33m\"\u001b[39m\u001b[33mNo default database defined\u001b[39m\u001b[33m\"\u001b[39m)\n\u001b[32m   2153\u001b[39m     name = \u001b[38;5;28mself\u001b[39m.__default_database_name\n\u001b[32m-> \u001b[39m\u001b[32m2155\u001b[39m \u001b[38;5;28;01mreturn\u001b[39;00m \u001b[43mdatabase\u001b[49m\u001b[43m.\u001b[49m\u001b[43mDatabase\u001b[49m\u001b[43m(\u001b[49m\n\u001b[32m   2156\u001b[39m \u001b[43m    \u001b[49m\u001b[38;5;28;43mself\u001b[39;49m\u001b[43m,\u001b[49m\u001b[43m \u001b[49m\u001b[43mname\u001b[49m\u001b[43m,\u001b[49m\u001b[43m \u001b[49m\u001b[43mcodec_options\u001b[49m\u001b[43m,\u001b[49m\u001b[43m \u001b[49m\u001b[43mread_preference\u001b[49m\u001b[43m,\u001b[49m\u001b[43m \u001b[49m\u001b[43mwrite_concern\u001b[49m\u001b[43m,\u001b[49m\u001b[43m \u001b[49m\u001b[43mread_concern\u001b[49m\n\u001b[32m   2157\u001b[39m \u001b[43m\u001b[49m\u001b[43m)\u001b[49m\n",
      "\u001b[36mFile \u001b[39m\u001b[32mc:\\Users\\hp\\anaconda3\\envs\\workshop\\Lib\\site-packages\\pymongo\\database.py:139\u001b[39m, in \u001b[36mDatabase.__init__\u001b[39m\u001b[34m(self, client, name, codec_options, read_preference, write_concern, read_concern)\u001b[39m\n\u001b[32m    136\u001b[39m     \u001b[38;5;28;01mraise\u001b[39;00m \u001b[38;5;167;01mTypeError\u001b[39;00m(\u001b[33m\"\u001b[39m\u001b[33mname must be an instance of str\u001b[39m\u001b[33m\"\u001b[39m)\n\u001b[32m    138\u001b[39m \u001b[38;5;28;01mif\u001b[39;00m name != \u001b[33m\"\u001b[39m\u001b[33m$external\u001b[39m\u001b[33m\"\u001b[39m:\n\u001b[32m--> \u001b[39m\u001b[32m139\u001b[39m     \u001b[43m_check_name\u001b[49m\u001b[43m(\u001b[49m\u001b[43mname\u001b[49m\u001b[43m)\u001b[49m\n\u001b[32m    141\u001b[39m \u001b[38;5;28mself\u001b[39m.__name = name\n\u001b[32m    142\u001b[39m \u001b[38;5;28mself\u001b[39m.__client: MongoClient[_DocumentType] = client\n",
      "\u001b[36mFile \u001b[39m\u001b[32mc:\\Users\\hp\\anaconda3\\envs\\workshop\\Lib\\site-packages\\pymongo\\database.py:66\u001b[39m, in \u001b[36m_check_name\u001b[39m\u001b[34m(name)\u001b[39m\n\u001b[32m     64\u001b[39m \u001b[38;5;28;01mfor\u001b[39;00m invalid_char \u001b[38;5;129;01min\u001b[39;00m [\u001b[33m\"\u001b[39m\u001b[33m \u001b[39m\u001b[33m\"\u001b[39m, \u001b[33m\"\u001b[39m\u001b[33m.\u001b[39m\u001b[33m\"\u001b[39m, \u001b[33m\"\u001b[39m\u001b[33m$\u001b[39m\u001b[33m\"\u001b[39m, \u001b[33m\"\u001b[39m\u001b[33m/\u001b[39m\u001b[33m\"\u001b[39m, \u001b[33m\"\u001b[39m\u001b[38;5;130;01m\\\\\u001b[39;00m\u001b[33m\"\u001b[39m, \u001b[33m\"\u001b[39m\u001b[38;5;130;01m\\x00\u001b[39;00m\u001b[33m\"\u001b[39m, \u001b[33m'\u001b[39m\u001b[33m\"\u001b[39m\u001b[33m'\u001b[39m]:\n\u001b[32m     65\u001b[39m     \u001b[38;5;28;01mif\u001b[39;00m invalid_char \u001b[38;5;129;01min\u001b[39;00m name:\n\u001b[32m---> \u001b[39m\u001b[32m66\u001b[39m         \u001b[38;5;28;01mraise\u001b[39;00m InvalidName(\u001b[33m\"\u001b[39m\u001b[33mdatabase names cannot contain the character \u001b[39m\u001b[38;5;132;01m%r\u001b[39;00m\u001b[33m\"\u001b[39m % invalid_char)\n",
      "\u001b[31mInvalidName\u001b[39m: database names cannot contain the character ' '"
     ]
    }
   ],
   "source": [
    "# Establish a fresh connection to MongoDB\n",
    "connection_string = \"mongodb+srv://adwait:<adwait>@mlcluster.2hzpona.mongodb.net/\"\n",
    "client = MongoClient(connection_string)\n",
    "db = client.get_database('mlworkshop')\n",
    "collection = db.products  # This is the collection where your data is stored\n",
    "\n"
   ]
  },
  {
   "cell_type": "code",
   "execution_count": null,
   "metadata": {},
   "outputs": [],
   "source": [
    "# Fetch all documents from MongoDB\n",
    "cursor = collection.find({})\n",
    "\n",
    "# Convert to DataFrame for easy data manipulation\n",
    "df = pd.DataFrame(list(cursor))\n",
    "\n",
    "# Now you have your MongoDB data in a pandas DataFrame\n",
    "print(f\"Successfully imported {len(df)} records from MongoDB\")\n",
    "print(df.head())  # Display first 5 rows\n",
    "\n"
   ]
  },
  {
   "cell_type": "code",
   "execution_count": null,
   "metadata": {},
   "outputs": [],
   "source": [
    "\n",
    "# Optional: Remove MongoDB's _id field if you don't need it\n",
    "if '_id' in df.columns:\n",
    "    df = df.drop('_id', axis=1)\n",
    "\n",
    "# Now you can work with this data\n",
    "# Example: Get basic statistics\n",
    "print(df.describe())\n",
    "\n",
    "# Example: Check column names\n",
    "print(df.columns)\n",
    "\n",
    "# Close the connection when done\n",
    "client.close() \n",
    "\n"
   ]
  },
  {
   "cell_type": "code",
   "execution_count": null,
   "metadata": {},
   "outputs": [],
   "source": [
    "df.head()"
   ]
  },
  {
   "cell_type": "code",
   "execution_count": null,
   "metadata": {},
   "outputs": [],
   "source": [
    "df.shape"
   ]
  },
  {
   "cell_type": "code",
   "execution_count": null,
   "metadata": {},
   "outputs": [],
   "source": []
  }
 ],
 "metadata": {
  "kernelspec": {
   "display_name": "workshop",
   "language": "python",
   "name": "python3"
  },
  "language_info": {
   "codemirror_mode": {
    "name": "ipython",
    "version": 3
   },
   "file_extension": ".py",
   "mimetype": "text/x-python",
   "name": "python",
   "nbconvert_exporter": "python",
   "pygments_lexer": "ipython3",
   "version": "3.12.9"
  }
 },
 "nbformat": 4,
 "nbformat_minor": 2
}
