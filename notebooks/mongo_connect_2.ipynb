{
 "cells": [
  {
   "cell_type": "code",
   "execution_count": null,
   "metadata": {},
   "outputs": [],
   "source": [
    "from pymongo import MongoClient\n",
    "import pandas as pd\n",
    "import os\n",
    "from dotenv import load_dotenv\n",
    "from urllib.parse import quote_plus\n",
    "from pymongo import MongoClient\n",
    "import urllib.parse "
   ]
  },
  {
   "cell_type": "code",
   "execution_count": null,
   "metadata": {},
   "outputs": [],
   "source": [
    "import sys; print(f\"Current environment: {sys.prefix}\")"
   ]
  },
  {
   "cell_type": "code",
   "execution_count": null,
   "metadata": {},
   "outputs": [],
   "source": [
    "username = os.getenv(\"MONGODB_USERNAME\")\n",
    "password = os.getenv(\"MONGODB_PASSWORD\")\n",
    "cluster = os.getenv(\"MONGODB_CLUSTER\")\n",
    "database = os.getenv(\"MONGODB_DATABASE\")\n",
    "username = urllib.parse.quote_plus(os.getenv(\"MONGODB_USERNAME\"))\n",
    "password = urllib.parse.quote_plus(os.getenv(\"MONGODB_PASSWORD\"))"
   ]
  },
  {
   "cell_type": "code",
   "execution_count": null,
   "metadata": {},
   "outputs": [],
   "source": [
    "import os\n",
    "from dotenv import load_dotenv\n",
    "import urllib.parse\n",
    "\n",
    "# Load environment variables\n",
    "load_dotenv()\n",
    "\n",
    "# Debug - print what's actually loaded\n",
    "print(\"Raw environment variables:\")\n",
    "print(f\"USERNAME: '{os.getenv('MONGODB_USERNAME')}'\")\n",
    "print(f\"PASSWORD: '{os.getenv('MONGODB_PASSWORD')}'\") \n",
    "print(f\"CLUSTER: '{os.getenv('MONGODB_CLUSTER')}'\")\n",
    "print(f\"DATABASE: '{os.getenv('MONGODB_DATABASE')}'\")\n",
    "\n",
    "# Get the values\n",
    "username = urllib.parse.quote_plus(os.getenv(\"MONGODB_USERNAME\"))\n",
    "password = urllib.parse.quote_plus(os.getenv(\"MONGODB_PASSWORD\"))\n",
    "cluster = os.getenv(\"MONGODB_CLUSTER\")  # Don't encode the cluster URL\n",
    "database = os.getenv(\"MONGODB_DATABASE\")\n",
    "\n",
    "print(f\"\\nProcessed values:\")\n",
    "print(f\"USERNAME: '{username}'\")\n",
    "print(f\"PASSWORD: '{password}'\")\n",
    "print(f\"CLUSTER: '{cluster}'\")\n",
    "print(f\"DATABASE: '{database}'\")\n",
    "\n",
    "# Construct connection string\n",
    "connection_string = f\"mongodb+srv://{username}:{password}@{cluster}/{database}?retryWrites=true&w=majority\"\n",
    "print(f\"\\nConnection string: {connection_string}\")"
   ]
  },
  {
   "cell_type": "code",
   "execution_count": null,
   "metadata": {},
   "outputs": [],
   "source": [
    "# Establish a fresh connection to MongoDB\n",
    "connection_string = f\"mongodb+srv://{username}:{password}@{cluster}/\"\n",
    "client = MongoClient(connection_string)\n",
    "db = client.get_database(database)\n",
    "collection = db.products  # This is the collection where your data is stored\n",
    "\n",
    "try:\n",
    "    print(\"Trying to connect and query...\")\n",
    "    result = collection.find_one()\n",
    "    print(\"Connection successful!\")\n",
    "    print(result)\n",
    "except Exception as e:\n",
    "    print(f\"An error occurred: {e}\")"
   ]
  },
  {
   "cell_type": "code",
   "execution_count": null,
   "metadata": {},
   "outputs": [],
   "source": [
    "# Fetch all documents from MongoDB\n",
    "cursor = collection.find({})\n",
    "\n",
    "# Convert to DataFrame for easy data manipulation\n",
    "df = pd.DataFrame(list(cursor))\n",
    "\n",
    "# Now you have your MongoDB data in a pandas DataFrame\n",
    "print(f\"Successfully imported {len(df)} records from MongoDB\")\n",
    "print(df.head())  # Display first 5 rows\n",
    "\n"
   ]
  },
  {
   "cell_type": "code",
   "execution_count": null,
   "metadata": {},
   "outputs": [],
   "source": [
    "\n",
    "# Optional: Remove MongoDB's _id field if you don't need it\n",
    "if '_id' in df.columns:\n",
    "    df = df.drop('_id', axis=1)\n",
    "\n",
    "# Now you can work with this data\n",
    "# Example: Get basic statistics\n",
    "print(df.describe())\n",
    "\n",
    "# Example: Check column names\n",
    "print(df.columns)\n",
    "\n",
    "# Close the connection when done\n",
    "client.close() \n",
    "\n"
   ]
  },
  {
   "cell_type": "code",
   "execution_count": null,
   "metadata": {},
   "outputs": [],
   "source": [
    "df.head()"
   ]
  },
  {
   "cell_type": "code",
   "execution_count": null,
   "metadata": {},
   "outputs": [],
   "source": [
    "df.shape"
   ]
  },
  {
   "cell_type": "code",
   "execution_count": null,
   "metadata": {},
   "outputs": [],
   "source": []
  }
 ],
 "metadata": {
  "kernelspec": {
   "display_name": "retailapp",
   "language": "python",
   "name": "python3"
  },
  "language_info": {
   "codemirror_mode": {
    "name": "ipython",
    "version": 3
   },
   "file_extension": ".py",
   "mimetype": "text/x-python",
   "name": "python",
   "nbconvert_exporter": "python",
   "pygments_lexer": "ipython3",
   "version": "3.10.18"
  }
 },
 "nbformat": 4,
 "nbformat_minor": 2
}
